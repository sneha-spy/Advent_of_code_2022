{
 "cells": [
  {
   "cell_type": "code",
   "execution_count": 6,
   "id": "2f0ca2f1",
   "metadata": {},
   "outputs": [
    {
     "ename": "TypeError",
     "evalue": "expected str, bytes or os.PathLike object, not DataFrame",
     "output_type": "error",
     "traceback": [
      "\u001b[1;31m---------------------------------------------------------------------------\u001b[0m",
      "\u001b[1;31mTypeError\u001b[0m                                 Traceback (most recent call last)",
      "Input \u001b[1;32mIn [6]\u001b[0m, in \u001b[0;36m<cell line: 8>\u001b[1;34m()\u001b[0m\n\u001b[0;32m      6\u001b[0m \u001b[38;5;66;03m#----------------------Day 05: Puzzle 1---------------#\u001b[39;00m\n\u001b[0;32m      7\u001b[0m data2\u001b[38;5;241m=\u001b[39mpd\u001b[38;5;241m.\u001b[39mread_csv(\u001b[38;5;124mr\u001b[39m\u001b[38;5;124m'\u001b[39m\u001b[38;5;124mC:\u001b[39m\u001b[38;5;124m\\\u001b[39m\u001b[38;5;124mUsers\u001b[39m\u001b[38;5;124m\\\u001b[39m\u001b[38;5;124mrdsnye\u001b[39m\u001b[38;5;124m\\\u001b[39m\u001b[38;5;124mOneDrive - TUNI.fi\u001b[39m\u001b[38;5;124m\\\u001b[39m\u001b[38;5;124mDesktop\u001b[39m\u001b[38;5;124m\\\u001b[39m\u001b[38;5;124mrandom\u001b[39m\u001b[38;5;124m\\\u001b[39m\u001b[38;5;124mAdvent_of_code\u001b[39m\u001b[38;5;124m\\\u001b[39m\u001b[38;5;124mDay05\u001b[39m\u001b[38;5;124m\\\u001b[39m\u001b[38;5;124minput_advofcode_05.txt\u001b[39m\u001b[38;5;124m'\u001b[39m)\n\u001b[1;32m----> 8\u001b[0m \u001b[38;5;28;01mwith\u001b[39;00m \u001b[38;5;28;43mopen\u001b[39;49m\u001b[43m(\u001b[49m\u001b[43mdata2\u001b[49m\u001b[43m)\u001b[49m \u001b[38;5;28;01mas\u001b[39;00m f:\n\u001b[0;32m      9\u001b[0m     moves\u001b[38;5;241m=\u001b[39m[]\n\u001b[0;32m     10\u001b[0m     \u001b[38;5;28;01mfor\u001b[39;00m line \u001b[38;5;129;01min\u001b[39;00m f:\n",
      "\u001b[1;31mTypeError\u001b[0m: expected str, bytes or os.PathLike object, not DataFrame"
     ]
    }
   ],
   "source": [
    "import networkx as nx\n",
    "import numpy as np\n",
    "import matplotlib.pyplot as plt\n",
    "import pandas as pd\n",
    "from math import nan, isnan\n",
    "#----------------------Day 05: Puzzle 1---------------#\n",
    "data2=pd.read_csv(r'C:\\Users\\rdsnye\\OneDrive - TUNI.fi\\Desktop\\random\\Advent_of_code\\Day05\\input_advofcode_05.txt')\n",
    "with open(data2) as f:\n",
    "    moves=[]\n",
    "    for line in f:\n",
    "        while len(line)>1 and len(line)<36:\n",
    "            moves.append(line)\n",
    "\n",
    "print(moves)      \n",
    "\n",
    "    #print(len(line))"
   ]
  }
 ],
 "metadata": {
  "kernelspec": {
   "display_name": "Python 3 (ipykernel)",
   "language": "python",
   "name": "python3"
  },
  "language_info": {
   "codemirror_mode": {
    "name": "ipython",
    "version": 3
   },
   "file_extension": ".py",
   "mimetype": "text/x-python",
   "name": "python",
   "nbconvert_exporter": "python",
   "pygments_lexer": "ipython3",
   "version": "3.9.12"
  }
 },
 "nbformat": 4,
 "nbformat_minor": 5
}
